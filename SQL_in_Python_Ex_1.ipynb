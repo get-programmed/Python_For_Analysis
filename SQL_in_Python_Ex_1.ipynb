{
  "nbformat": 4,
  "nbformat_minor": 0,
  "metadata": {
    "colab": {
      "provenance": [],
      "authorship_tag": "ABX9TyNSN9mt5NGE9jANakfTuT4l",
      "include_colab_link": true
    },
    "kernelspec": {
      "name": "python3",
      "display_name": "Python 3"
    },
    "language_info": {
      "name": "python"
    }
  },
  "cells": [
    {
      "cell_type": "markdown",
      "metadata": {
        "id": "view-in-github",
        "colab_type": "text"
      },
      "source": [
        "<a href=\"https://colab.research.google.com/github/get-programmed/Python_For_Analysis/blob/main/SQL_in_Python_Ex_1.ipynb\" target=\"_parent\"><img src=\"https://colab.research.google.com/assets/colab-badge.svg\" alt=\"Open In Colab\"/></a>"
      ]
    },
    {
      "cell_type": "markdown",
      "source": [
        "# **Import SQL in Python**"
      ],
      "metadata": {
        "id": "LRqGVYHe2b5i"
      }
    },
    {
      "cell_type": "code",
      "execution_count": 19,
      "metadata": {
        "id": "Qf6wBMeBFNxR"
      },
      "outputs": [],
      "source": [
        "import pandas as pd\n",
        "import numpy as np\n",
        "import sqlite3"
      ]
    },
    {
      "cell_type": "code",
      "source": [
        "df = pd.read_csv(r\"https://raw.githubusercontent.com/get-programmed/Python_For_Analysis/main/Datasets/Diwali%20Sales%20Data.csv\",header=0,encoding='latin1')"
      ],
      "metadata": {
        "id": "tG0DVSQjWfOI"
      },
      "execution_count": 4,
      "outputs": []
    },
    {
      "cell_type": "code",
      "source": [
        "cnn = sqlite3.connect('G_lab.db')"
      ],
      "metadata": {
        "id": "jq7716vqWjwi"
      },
      "execution_count": 5,
      "outputs": []
    },
    {
      "cell_type": "code",
      "source": [
        "table_exists = cnn.execute(f\"SELECT name FROM sqlite_master WHERE type='table' AND name='Diwale_sales_1';\").fetchone()\n",
        "if table_exists:\n",
        "    print(\"Table 'Diwale_sales_1' already exists.\")\n",
        "else:\n",
        "    print(\"Table 'Diwale_sales_1' does not exist.\")"
      ],
      "metadata": {
        "colab": {
          "base_uri": "https://localhost:8080/"
        },
        "id": "Gr4gIqgu3V81",
        "outputId": "c618bc29-238f-430a-88b8-938f5389ae46"
      },
      "execution_count": 6,
      "outputs": [
        {
          "output_type": "stream",
          "name": "stdout",
          "text": [
            "Table 'Diwale_sales_1' does not exist.\n"
          ]
        }
      ]
    },
    {
      "cell_type": "code",
      "source": [
        "if table_exists:\n",
        "    cnn.execute(f\"DROP TABLE Diwale_sales_1;\")\n",
        "    print(\"Table 'Diwale_sales_1' has been dropped.\")"
      ],
      "metadata": {
        "id": "dHqR6O5Q3fA7"
      },
      "execution_count": 7,
      "outputs": []
    },
    {
      "cell_type": "code",
      "source": [
        "df.to_sql('Diwale_sales_1', cnn)"
      ],
      "metadata": {
        "colab": {
          "base_uri": "https://localhost:8080/"
        },
        "id": "pxv375IAWmRD",
        "outputId": "9a2fc6c2-a629-4d33-df5f-963cc0c2869a"
      },
      "execution_count": 8,
      "outputs": [
        {
          "output_type": "execute_result",
          "data": {
            "text/plain": [
              "11251"
            ]
          },
          "metadata": {},
          "execution_count": 8
        }
      ]
    },
    {
      "cell_type": "code",
      "source": [
        "%load_ext sql"
      ],
      "metadata": {
        "id": "Q2iNEwQjWpPL"
      },
      "execution_count": 9,
      "outputs": []
    },
    {
      "cell_type": "code",
      "source": [
        "%sql sqlite:///G_lab.db"
      ],
      "metadata": {
        "id": "LoEzfG3GWr_L"
      },
      "execution_count": 10,
      "outputs": []
    },
    {
      "cell_type": "code",
      "source": [
        "# View Table data\n",
        "%%sql\n",
        "SELECT * FROM Diwale_sales_1 LIMIT 10"
      ],
      "metadata": {
        "colab": {
          "base_uri": "https://localhost:8080/",
          "height": 289
        },
        "id": "iSAkcCS1WHgM",
        "outputId": "71fc1e33-033a-4d17-f02e-ff4cbd856138"
      },
      "execution_count": 11,
      "outputs": [
        {
          "output_type": "stream",
          "name": "stdout",
          "text": [
            " * sqlite:///G_lab.db\n",
            "Done.\n"
          ]
        },
        {
          "output_type": "execute_result",
          "data": {
            "text/plain": [
              "[(0, 1002903, 'Sanskriti', 'P00125942', 'F', '26-35', 28, 0, 'Maharashtra', 'Western', 'Healthcare', 'Auto', 1, 23952.0, None, None),\n",
              " (1, 1000732, 'Kartik', 'P00110942', 'F', '26-35', 35, 1, 'Andhra\\xa0Pradesh', 'Southern', 'Govt', 'Auto', 3, 23934.0, None, None),\n",
              " (2, 1001990, 'Bindu', 'P00118542', 'F', '26-35', 35, 1, 'Uttar Pradesh', 'Central', 'Automobile', 'Auto', 3, 23924.0, None, None),\n",
              " (3, 1001425, 'Sudevi', 'P00237842', 'M', '0-17', 16, 0, 'Karnataka', 'Southern', 'Construction', 'Auto', 2, 23912.0, None, None),\n",
              " (4, 1000588, 'Joni', 'P00057942', 'M', '26-35', 28, 1, 'Gujarat', 'Western', 'Food Processing', 'Auto', 2, 23877.0, None, None),\n",
              " (5, 1000588, 'Joni', 'P00057942', 'M', '26-35', 28, 1, 'Himachal Pradesh', 'Northern', 'Food Processing', 'Auto', 1, 23877.0, None, None),\n",
              " (6, 1001132, 'Balk', 'P00018042', 'F', '18-25', 25, 1, 'Uttar Pradesh', 'Central', 'Lawyer', 'Auto', 4, 23841.0, None, None),\n",
              " (7, 1002092, 'Shivangi', 'P00273442', 'F', '55+', 61, 0, 'Maharashtra', 'Western', 'IT Sector', 'Auto', 1, None, None, None),\n",
              " (8, 1003224, 'Kushal', 'P00205642', 'M', '26-35', 35, 0, 'Uttar Pradesh', 'Central', 'Govt', 'Auto', 2, 23809.0, None, None),\n",
              " (9, 1003650, 'Ginny', 'P00031142', 'F', '26-35', 26, 1, 'Andhra\\xa0Pradesh', 'Southern', 'Media', 'Auto', 4, 23799.99, None, None)]"
            ],
            "text/html": [
              "<table>\n",
              "    <thead>\n",
              "        <tr>\n",
              "            <th>index</th>\n",
              "            <th>User_ID</th>\n",
              "            <th>Cust_name</th>\n",
              "            <th>Product_ID</th>\n",
              "            <th>Gender</th>\n",
              "            <th>Age Group</th>\n",
              "            <th>Age</th>\n",
              "            <th>Marital_Status</th>\n",
              "            <th>State</th>\n",
              "            <th>Zone</th>\n",
              "            <th>Occupation</th>\n",
              "            <th>Product_Category</th>\n",
              "            <th>Orders</th>\n",
              "            <th>Amount</th>\n",
              "            <th>Status</th>\n",
              "            <th>unnamed1</th>\n",
              "        </tr>\n",
              "    </thead>\n",
              "    <tbody>\n",
              "        <tr>\n",
              "            <td>0</td>\n",
              "            <td>1002903</td>\n",
              "            <td>Sanskriti</td>\n",
              "            <td>P00125942</td>\n",
              "            <td>F</td>\n",
              "            <td>26-35</td>\n",
              "            <td>28</td>\n",
              "            <td>0</td>\n",
              "            <td>Maharashtra</td>\n",
              "            <td>Western</td>\n",
              "            <td>Healthcare</td>\n",
              "            <td>Auto</td>\n",
              "            <td>1</td>\n",
              "            <td>23952.0</td>\n",
              "            <td>None</td>\n",
              "            <td>None</td>\n",
              "        </tr>\n",
              "        <tr>\n",
              "            <td>1</td>\n",
              "            <td>1000732</td>\n",
              "            <td>Kartik</td>\n",
              "            <td>P00110942</td>\n",
              "            <td>F</td>\n",
              "            <td>26-35</td>\n",
              "            <td>35</td>\n",
              "            <td>1</td>\n",
              "            <td>Andhra Pradesh</td>\n",
              "            <td>Southern</td>\n",
              "            <td>Govt</td>\n",
              "            <td>Auto</td>\n",
              "            <td>3</td>\n",
              "            <td>23934.0</td>\n",
              "            <td>None</td>\n",
              "            <td>None</td>\n",
              "        </tr>\n",
              "        <tr>\n",
              "            <td>2</td>\n",
              "            <td>1001990</td>\n",
              "            <td>Bindu</td>\n",
              "            <td>P00118542</td>\n",
              "            <td>F</td>\n",
              "            <td>26-35</td>\n",
              "            <td>35</td>\n",
              "            <td>1</td>\n",
              "            <td>Uttar Pradesh</td>\n",
              "            <td>Central</td>\n",
              "            <td>Automobile</td>\n",
              "            <td>Auto</td>\n",
              "            <td>3</td>\n",
              "            <td>23924.0</td>\n",
              "            <td>None</td>\n",
              "            <td>None</td>\n",
              "        </tr>\n",
              "        <tr>\n",
              "            <td>3</td>\n",
              "            <td>1001425</td>\n",
              "            <td>Sudevi</td>\n",
              "            <td>P00237842</td>\n",
              "            <td>M</td>\n",
              "            <td>0-17</td>\n",
              "            <td>16</td>\n",
              "            <td>0</td>\n",
              "            <td>Karnataka</td>\n",
              "            <td>Southern</td>\n",
              "            <td>Construction</td>\n",
              "            <td>Auto</td>\n",
              "            <td>2</td>\n",
              "            <td>23912.0</td>\n",
              "            <td>None</td>\n",
              "            <td>None</td>\n",
              "        </tr>\n",
              "        <tr>\n",
              "            <td>4</td>\n",
              "            <td>1000588</td>\n",
              "            <td>Joni</td>\n",
              "            <td>P00057942</td>\n",
              "            <td>M</td>\n",
              "            <td>26-35</td>\n",
              "            <td>28</td>\n",
              "            <td>1</td>\n",
              "            <td>Gujarat</td>\n",
              "            <td>Western</td>\n",
              "            <td>Food Processing</td>\n",
              "            <td>Auto</td>\n",
              "            <td>2</td>\n",
              "            <td>23877.0</td>\n",
              "            <td>None</td>\n",
              "            <td>None</td>\n",
              "        </tr>\n",
              "        <tr>\n",
              "            <td>5</td>\n",
              "            <td>1000588</td>\n",
              "            <td>Joni</td>\n",
              "            <td>P00057942</td>\n",
              "            <td>M</td>\n",
              "            <td>26-35</td>\n",
              "            <td>28</td>\n",
              "            <td>1</td>\n",
              "            <td>Himachal Pradesh</td>\n",
              "            <td>Northern</td>\n",
              "            <td>Food Processing</td>\n",
              "            <td>Auto</td>\n",
              "            <td>1</td>\n",
              "            <td>23877.0</td>\n",
              "            <td>None</td>\n",
              "            <td>None</td>\n",
              "        </tr>\n",
              "        <tr>\n",
              "            <td>6</td>\n",
              "            <td>1001132</td>\n",
              "            <td>Balk</td>\n",
              "            <td>P00018042</td>\n",
              "            <td>F</td>\n",
              "            <td>18-25</td>\n",
              "            <td>25</td>\n",
              "            <td>1</td>\n",
              "            <td>Uttar Pradesh</td>\n",
              "            <td>Central</td>\n",
              "            <td>Lawyer</td>\n",
              "            <td>Auto</td>\n",
              "            <td>4</td>\n",
              "            <td>23841.0</td>\n",
              "            <td>None</td>\n",
              "            <td>None</td>\n",
              "        </tr>\n",
              "        <tr>\n",
              "            <td>7</td>\n",
              "            <td>1002092</td>\n",
              "            <td>Shivangi</td>\n",
              "            <td>P00273442</td>\n",
              "            <td>F</td>\n",
              "            <td>55+</td>\n",
              "            <td>61</td>\n",
              "            <td>0</td>\n",
              "            <td>Maharashtra</td>\n",
              "            <td>Western</td>\n",
              "            <td>IT Sector</td>\n",
              "            <td>Auto</td>\n",
              "            <td>1</td>\n",
              "            <td>None</td>\n",
              "            <td>None</td>\n",
              "            <td>None</td>\n",
              "        </tr>\n",
              "        <tr>\n",
              "            <td>8</td>\n",
              "            <td>1003224</td>\n",
              "            <td>Kushal</td>\n",
              "            <td>P00205642</td>\n",
              "            <td>M</td>\n",
              "            <td>26-35</td>\n",
              "            <td>35</td>\n",
              "            <td>0</td>\n",
              "            <td>Uttar Pradesh</td>\n",
              "            <td>Central</td>\n",
              "            <td>Govt</td>\n",
              "            <td>Auto</td>\n",
              "            <td>2</td>\n",
              "            <td>23809.0</td>\n",
              "            <td>None</td>\n",
              "            <td>None</td>\n",
              "        </tr>\n",
              "        <tr>\n",
              "            <td>9</td>\n",
              "            <td>1003650</td>\n",
              "            <td>Ginny</td>\n",
              "            <td>P00031142</td>\n",
              "            <td>F</td>\n",
              "            <td>26-35</td>\n",
              "            <td>26</td>\n",
              "            <td>1</td>\n",
              "            <td>Andhra Pradesh</td>\n",
              "            <td>Southern</td>\n",
              "            <td>Media</td>\n",
              "            <td>Auto</td>\n",
              "            <td>4</td>\n",
              "            <td>23799.99</td>\n",
              "            <td>None</td>\n",
              "            <td>None</td>\n",
              "        </tr>\n",
              "    </tbody>\n",
              "</table>"
            ]
          },
          "metadata": {},
          "execution_count": 11
        }
      ]
    },
    {
      "cell_type": "code",
      "source": [
        "# Show the Table where Marital_Status is 1\n",
        "%%sql\n",
        "SELECT * FROM Diwale_sales_1 WHERE Marital_Status = 1 LIMIT 10"
      ],
      "metadata": {
        "colab": {
          "base_uri": "https://localhost:8080/",
          "height": 289
        },
        "id": "iFlmGhvfYlBB",
        "outputId": "05eea740-c032-4f0e-e10b-81c785599027"
      },
      "execution_count": 12,
      "outputs": [
        {
          "output_type": "stream",
          "name": "stdout",
          "text": [
            " * sqlite:///G_lab.db\n",
            "Done.\n"
          ]
        },
        {
          "output_type": "execute_result",
          "data": {
            "text/plain": [
              "[(1, 1000732, 'Kartik', 'P00110942', 'F', '26-35', 35, 1, 'Andhra\\xa0Pradesh', 'Southern', 'Govt', 'Auto', 3, 23934.0, None, None),\n",
              " (2, 1001990, 'Bindu', 'P00118542', 'F', '26-35', 35, 1, 'Uttar Pradesh', 'Central', 'Automobile', 'Auto', 3, 23924.0, None, None),\n",
              " (4, 1000588, 'Joni', 'P00057942', 'M', '26-35', 28, 1, 'Gujarat', 'Western', 'Food Processing', 'Auto', 2, 23877.0, None, None),\n",
              " (5, 1000588, 'Joni', 'P00057942', 'M', '26-35', 28, 1, 'Himachal Pradesh', 'Northern', 'Food Processing', 'Auto', 1, 23877.0, None, None),\n",
              " (6, 1001132, 'Balk', 'P00018042', 'F', '18-25', 25, 1, 'Uttar Pradesh', 'Central', 'Lawyer', 'Auto', 4, 23841.0, None, None),\n",
              " (9, 1003650, 'Ginny', 'P00031142', 'F', '26-35', 26, 1, 'Andhra\\xa0Pradesh', 'Southern', 'Media', 'Auto', 4, 23799.99, None, None),\n",
              " (12, 1004035, 'Elijah', 'P00080342', 'F', '18-25', 20, 1, 'Andhra\\xa0Pradesh', 'Southern', 'IT Sector', 'Auto', 2, 23730.0, None, None),\n",
              " (13, 1001680, 'Vasudev', 'P00324942', 'M', '26-35', 26, 1, 'Andhra\\xa0Pradesh', 'Southern', 'Automobile', 'Auto', 4, 23718.0, None, None),\n",
              " (14, 1003858, 'Cano', 'P00293742', 'M', '46-50', 46, 1, 'Madhya Pradesh', 'Central', 'Hospitality', 'Auto', 3, None, None, None),\n",
              " (16, 1005447, 'Amy', 'P00275642', 'F', '46-50', 48, 1, 'Andhra\\xa0Pradesh', 'Southern', 'IT Sector', 'Auto', 3, None, None, None)]"
            ],
            "text/html": [
              "<table>\n",
              "    <thead>\n",
              "        <tr>\n",
              "            <th>index</th>\n",
              "            <th>User_ID</th>\n",
              "            <th>Cust_name</th>\n",
              "            <th>Product_ID</th>\n",
              "            <th>Gender</th>\n",
              "            <th>Age Group</th>\n",
              "            <th>Age</th>\n",
              "            <th>Marital_Status</th>\n",
              "            <th>State</th>\n",
              "            <th>Zone</th>\n",
              "            <th>Occupation</th>\n",
              "            <th>Product_Category</th>\n",
              "            <th>Orders</th>\n",
              "            <th>Amount</th>\n",
              "            <th>Status</th>\n",
              "            <th>unnamed1</th>\n",
              "        </tr>\n",
              "    </thead>\n",
              "    <tbody>\n",
              "        <tr>\n",
              "            <td>1</td>\n",
              "            <td>1000732</td>\n",
              "            <td>Kartik</td>\n",
              "            <td>P00110942</td>\n",
              "            <td>F</td>\n",
              "            <td>26-35</td>\n",
              "            <td>35</td>\n",
              "            <td>1</td>\n",
              "            <td>Andhra Pradesh</td>\n",
              "            <td>Southern</td>\n",
              "            <td>Govt</td>\n",
              "            <td>Auto</td>\n",
              "            <td>3</td>\n",
              "            <td>23934.0</td>\n",
              "            <td>None</td>\n",
              "            <td>None</td>\n",
              "        </tr>\n",
              "        <tr>\n",
              "            <td>2</td>\n",
              "            <td>1001990</td>\n",
              "            <td>Bindu</td>\n",
              "            <td>P00118542</td>\n",
              "            <td>F</td>\n",
              "            <td>26-35</td>\n",
              "            <td>35</td>\n",
              "            <td>1</td>\n",
              "            <td>Uttar Pradesh</td>\n",
              "            <td>Central</td>\n",
              "            <td>Automobile</td>\n",
              "            <td>Auto</td>\n",
              "            <td>3</td>\n",
              "            <td>23924.0</td>\n",
              "            <td>None</td>\n",
              "            <td>None</td>\n",
              "        </tr>\n",
              "        <tr>\n",
              "            <td>4</td>\n",
              "            <td>1000588</td>\n",
              "            <td>Joni</td>\n",
              "            <td>P00057942</td>\n",
              "            <td>M</td>\n",
              "            <td>26-35</td>\n",
              "            <td>28</td>\n",
              "            <td>1</td>\n",
              "            <td>Gujarat</td>\n",
              "            <td>Western</td>\n",
              "            <td>Food Processing</td>\n",
              "            <td>Auto</td>\n",
              "            <td>2</td>\n",
              "            <td>23877.0</td>\n",
              "            <td>None</td>\n",
              "            <td>None</td>\n",
              "        </tr>\n",
              "        <tr>\n",
              "            <td>5</td>\n",
              "            <td>1000588</td>\n",
              "            <td>Joni</td>\n",
              "            <td>P00057942</td>\n",
              "            <td>M</td>\n",
              "            <td>26-35</td>\n",
              "            <td>28</td>\n",
              "            <td>1</td>\n",
              "            <td>Himachal Pradesh</td>\n",
              "            <td>Northern</td>\n",
              "            <td>Food Processing</td>\n",
              "            <td>Auto</td>\n",
              "            <td>1</td>\n",
              "            <td>23877.0</td>\n",
              "            <td>None</td>\n",
              "            <td>None</td>\n",
              "        </tr>\n",
              "        <tr>\n",
              "            <td>6</td>\n",
              "            <td>1001132</td>\n",
              "            <td>Balk</td>\n",
              "            <td>P00018042</td>\n",
              "            <td>F</td>\n",
              "            <td>18-25</td>\n",
              "            <td>25</td>\n",
              "            <td>1</td>\n",
              "            <td>Uttar Pradesh</td>\n",
              "            <td>Central</td>\n",
              "            <td>Lawyer</td>\n",
              "            <td>Auto</td>\n",
              "            <td>4</td>\n",
              "            <td>23841.0</td>\n",
              "            <td>None</td>\n",
              "            <td>None</td>\n",
              "        </tr>\n",
              "        <tr>\n",
              "            <td>9</td>\n",
              "            <td>1003650</td>\n",
              "            <td>Ginny</td>\n",
              "            <td>P00031142</td>\n",
              "            <td>F</td>\n",
              "            <td>26-35</td>\n",
              "            <td>26</td>\n",
              "            <td>1</td>\n",
              "            <td>Andhra Pradesh</td>\n",
              "            <td>Southern</td>\n",
              "            <td>Media</td>\n",
              "            <td>Auto</td>\n",
              "            <td>4</td>\n",
              "            <td>23799.99</td>\n",
              "            <td>None</td>\n",
              "            <td>None</td>\n",
              "        </tr>\n",
              "        <tr>\n",
              "            <td>12</td>\n",
              "            <td>1004035</td>\n",
              "            <td>Elijah</td>\n",
              "            <td>P00080342</td>\n",
              "            <td>F</td>\n",
              "            <td>18-25</td>\n",
              "            <td>20</td>\n",
              "            <td>1</td>\n",
              "            <td>Andhra Pradesh</td>\n",
              "            <td>Southern</td>\n",
              "            <td>IT Sector</td>\n",
              "            <td>Auto</td>\n",
              "            <td>2</td>\n",
              "            <td>23730.0</td>\n",
              "            <td>None</td>\n",
              "            <td>None</td>\n",
              "        </tr>\n",
              "        <tr>\n",
              "            <td>13</td>\n",
              "            <td>1001680</td>\n",
              "            <td>Vasudev</td>\n",
              "            <td>P00324942</td>\n",
              "            <td>M</td>\n",
              "            <td>26-35</td>\n",
              "            <td>26</td>\n",
              "            <td>1</td>\n",
              "            <td>Andhra Pradesh</td>\n",
              "            <td>Southern</td>\n",
              "            <td>Automobile</td>\n",
              "            <td>Auto</td>\n",
              "            <td>4</td>\n",
              "            <td>23718.0</td>\n",
              "            <td>None</td>\n",
              "            <td>None</td>\n",
              "        </tr>\n",
              "        <tr>\n",
              "            <td>14</td>\n",
              "            <td>1003858</td>\n",
              "            <td>Cano</td>\n",
              "            <td>P00293742</td>\n",
              "            <td>M</td>\n",
              "            <td>46-50</td>\n",
              "            <td>46</td>\n",
              "            <td>1</td>\n",
              "            <td>Madhya Pradesh</td>\n",
              "            <td>Central</td>\n",
              "            <td>Hospitality</td>\n",
              "            <td>Auto</td>\n",
              "            <td>3</td>\n",
              "            <td>None</td>\n",
              "            <td>None</td>\n",
              "            <td>None</td>\n",
              "        </tr>\n",
              "        <tr>\n",
              "            <td>16</td>\n",
              "            <td>1005447</td>\n",
              "            <td>Amy</td>\n",
              "            <td>P00275642</td>\n",
              "            <td>F</td>\n",
              "            <td>46-50</td>\n",
              "            <td>48</td>\n",
              "            <td>1</td>\n",
              "            <td>Andhra Pradesh</td>\n",
              "            <td>Southern</td>\n",
              "            <td>IT Sector</td>\n",
              "            <td>Auto</td>\n",
              "            <td>3</td>\n",
              "            <td>None</td>\n",
              "            <td>None</td>\n",
              "            <td>None</td>\n",
              "        </tr>\n",
              "    </tbody>\n",
              "</table>"
            ]
          },
          "metadata": {},
          "execution_count": 12
        }
      ]
    }
  ]
}